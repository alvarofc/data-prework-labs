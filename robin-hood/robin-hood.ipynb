{
 "cells": [
  {
   "cell_type": "markdown",
   "metadata": {},
   "source": [
    "# Robin Hood:\n",
    "We are in a competition to win the archery contest in Sherwood. With our bow and arrows we shoot on a target and try to hit as close as possible to the center.\n",
    "\n",
    "The center of the target is represented by the values (0, 0) on the coordinate axes.\n",
    "\n",
    "![](images/arrows.jpg)\n",
    "\n",
    "## Goals:\n",
    "* data structures: lists, sets, tuples\n",
    "* logical operators: if-elif-else\n",
    "* loop: while/for\n",
    "* minimum (optional sorting)\n",
    "\n",
    "## Description:\n",
    "In the 2-dimensional space, a point can be defined by a pair of values that correspond to the horizontal coordinate (x) and the vertical coordinate (y). The space can be divided into 4 zones (quadrants): Q1, Q2, Q3, Q4. Whose single point of union is the point (0, 0).\n",
    "\n",
    "If a point is in Q1 both its x coordinate and the y are positive. I leave a link to wikipedia to familiarize yourself with these quadrants.\n",
    "\n",
    "https://en.wikipedia.org/wiki/Cartesian_coordinate_system\n",
    "\n",
    "https://en.wikipedia.org/wiki/Euclidean_distance\n",
    "\n",
    "## Shots\n",
    "```\n",
    "points = [(4, 5), (-0, 2), (4, 7), (1, -3), (3, -2), (4, 5),\n",
    "          (3, 2), (5, 7), (-5, 7), (2, 2), (-4, 5), (0, -2),\n",
    "          (-4, 7), (-1, 3), (-3, 2), (-4, -5), (-3, 2),\n",
    "          (5, 7), (5, 7), (2, 2), (9, 9), (-8, -9)]\n",
    "```\n",
    "\n",
    "## Tasks\n",
    "1. Robin Hood is famous for hitting an arrow with another arrow. Did you get it?\n",
    "2. Calculate how many arrows have fallen in each quadrant.\n",
    "3. Find the point closest to the center. Calculate its distance to the center. \n",
    "4. If the target has a radius of 9, calculate the number of arrows that must be picked up in the forest."
   ]
  },
  {
   "cell_type": "code",
   "execution_count": 2,
   "metadata": {},
   "outputs": [],
   "source": [
    "# Variables\n",
    "\n",
    "points = [(4, 5), (-0, 2), (4, 7), (1, -3), (3, -2), (4, 5),\n",
    "          (3, 2), (5, 7), (-5, 7), (2, 2), (-4, 5), (0, -2),\n",
    "          (-4, 7), (-1, 3), (-3, 2), (-4, -5), (-3, 2),\n",
    "          (5, 7), (5, 7), (2, 2), (9, 9), (-8, -9)]"
   ]
  },
  {
   "cell_type": "code",
   "execution_count": 3,
   "metadata": {},
   "outputs": [
    {
     "name": "stdout",
     "output_type": "stream",
     "text": [
      "Yeah! (4, 5)\n",
      "OOOPS\n",
      "OOOPS\n",
      "OOOPS\n",
      "OOOPS\n",
      "Yeah! (4, 5)\n",
      "OOOPS\n",
      "Yeah! (5, 7)\n",
      "OOOPS\n",
      "Yeah! (2, 2)\n",
      "OOOPS\n",
      "OOOPS\n",
      "OOOPS\n",
      "OOOPS\n",
      "Yeah! (-3, 2)\n",
      "OOOPS\n",
      "Yeah! (-3, 2)\n",
      "Yeah! (5, 7)\n",
      "Yeah! (5, 7)\n",
      "Yeah! (2, 2)\n",
      "OOOPS\n",
      "OOOPS\n"
     ]
    }
   ],
   "source": [
    "# 1. Robin Hood is famous for hitting an arrow with another arrow. Did you get it?\n",
    "for i in points:\n",
    "    if points.count(i) > 1:\n",
    "        print(\"Yeah!\", i)\n",
    "    else:\n",
    "        print(\"OOOPS\")"
   ]
  },
  {
   "cell_type": "code",
   "execution_count": 4,
   "metadata": {},
   "outputs": [
    {
     "name": "stdout",
     "output_type": "stream",
     "text": [
      "10 arrows have fallen in Q1\n",
      "2 arrows have fallen in Q2\n",
      "2 arrows have fallen in Q3\n",
      "8 arrows have fallen in q4\n"
     ]
    }
   ],
   "source": [
    "# 2. Calculate how many arrows have fallen in each quadrant.\n",
    "q1 = []\n",
    "q2 = []\n",
    "q3 = []\n",
    "q4 = []\n",
    "for a,b in points:\n",
    "    if a>0 and b>0:\n",
    "        q1.append((a,b))\n",
    "    elif a>0 and b<0:\n",
    "        q2.append((a,b))\n",
    "    elif a<0 and b<0:\n",
    "        q3.append((a,b))\n",
    "    else:\n",
    "        q4.append((a,b))\n",
    "print(len(q1), \"arrows have fallen in Q1\")\n",
    "print(len(q2), \"arrows have fallen in Q2\")\n",
    "print(len(q3), \"arrows have fallen in Q3\")\n",
    "print(len(q4), \"arrows have fallen in q4\")"
   ]
  },
  {
   "cell_type": "code",
   "execution_count": 5,
   "metadata": {
    "code_folding": []
   },
   "outputs": [
    {
     "name": "stdout",
     "output_type": "stream",
     "text": [
      "(0, 2) is the closest point to the center and is 2.0 away\n",
      "(0, -2) is the closest point to the center and is 2.0 away\n"
     ]
    }
   ],
   "source": [
    "# 3. Find the point closest to the center. Calculate its distance to the center\n",
    "# Defining a function that calculates the distance to the center can help.\n",
    "distances = []\n",
    "info = []\n",
    "for a,b in points:\n",
    "    dist = ((a-0)**2+(b-0)**2)**1/2\n",
    "    info.append((a,b,dist))\n",
    "    distances.append(dist)\n",
    "\n",
    "for a,b,c in info:\n",
    "    if c == min(distances):\n",
    "        print((a,b), \"is the closest point to the center and is\",c, \"away\")\n",
    "    else:\n",
    "        pass"
   ]
  },
  {
   "cell_type": "code",
   "execution_count": 7,
   "metadata": {},
   "outputs": [
    {
     "name": "stdout",
     "output_type": "stream",
     "text": [
      "You will need to pick 12 arrows\n"
     ]
    }
   ],
   "source": [
    "# 4. If the target has a radius of 9, calculate the number of arrows that \n",
    "# must be picked up in the forest.\n",
    "in_the_forest=0 \n",
    "for a,b,c in info:\n",
    "    if c > 9:\n",
    "        in_the_forest += 1\n",
    "    else:\n",
    "        pass\n",
    "print(\"You will need to pick\", in_the_forest, \"arrows\")"
   ]
  },
  {
   "cell_type": "code",
   "execution_count": null,
   "metadata": {},
   "outputs": [],
   "source": []
  }
 ],
 "metadata": {
  "kernelspec": {
   "display_name": "Python 3",
   "language": "python",
   "name": "python3"
  },
  "language_info": {
   "codemirror_mode": {
    "name": "ipython",
    "version": 3
   },
   "file_extension": ".py",
   "mimetype": "text/x-python",
   "name": "python",
   "nbconvert_exporter": "python",
   "pygments_lexer": "ipython3",
   "version": "3.6.4"
  }
 },
 "nbformat": 4,
 "nbformat_minor": 2
}
